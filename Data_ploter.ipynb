{
 "cells": [
  {
   "cell_type": "code",
   "execution_count": 41,
   "metadata": {},
   "outputs": [],
   "source": [
    "import numpy as np, os\n",
    "from math import pi\n",
    "import matplotlib.pyplot as plt\n",
    "\n",
    "def extract_info(mol_name):\n",
    "    '''\n",
    "    This function reads .txt files from Error_Analisys_R1.ipynb.\n",
    "    '''\n",
    "    \n",
    "    path = os.path.join('Molecule',mol_name)\n",
    "    \n",
    "    info_Text = open(os.path.join(path , 'Resultados.txt')).read().split('\\n')\n",
    "    \n",
    "    # Info is saved in this order\n",
    "    #d , S_phi , S_Coop , S_Zeb , time , it_count , N_el \n",
    "    info = np.empty((0,7))\n",
    "    for line in info_Text[:-1]:\n",
    "        aux_line = line.split()\n",
    "        aux    = np.array(aux_line[:5]).astype(float)\n",
    "        values = np.around( aux , 6 ) \n",
    "        aux = np.concatenate([values,np.array(aux_line[5:]).astype(int)],axis=0)\n",
    "        info = np.vstack(( info , aux ))\n",
    "    return info\n",
    "\n",
    "def info_to_latex(info):\n",
    "    \n",
    "    \n",
    "\n",
    "    header  =  'Density        & $S_{trad}$ & $S_{Cooper}$ & $S_{Zeb}^{*}$ & Time &  \\# It &  \\# Elem \\\\ '\n",
    "    sub_head = '[\\#El/A$^{-2}$]& [kCal/mol] & [kCal/mol]   & [kCal/mol]    & [s] & [-]    & [-]     \\\\ '\n",
    "    rows = ''\n",
    "    for i in range(len(info[:,1])):\n",
    "        rows = rows + ' & '.join(info[i,:].astype(str))+ ' \\\\'\n",
    "    return header+sub_head+rows\n",
    "\n",
    "def simple_triple_ploter(x,y1,y2,y3):\n",
    "    plt.plot(x, y1, 'r^', x, y2, 'y^', x, y3, 'b^')\n",
    "    \n",
    "    plt.yscale('symlog')\n",
    "    #ax[1].margins(x=0.12, y=0.2)\n",
    "    \n",
    "    plt.show()\n",
    "    return plt"
   ]
  },
  {
   "cell_type": "code",
   "execution_count": 43,
   "metadata": {},
   "outputs": [
    {
     "data": {
      "text/plain": [
       "'Density        & $S_{trad}$ & $S_{Cooper}$ & $S_{Zeb}^{*}$ & Time &  \\\\# It &  \\\\# Elem \\\\ [\\\\#El/A$^{-2}$]& [kCal/mol] & [kCal/mol]   & [kCal/mol]    & [s] & [-]    & [-]     \\\\ 2.0 & -74.781817 & -66.807491 & -66.80194 & 23.002787 & 121.0 & 624.0 \\\\8.0 & -63.520628 & -63.596195 & -63.596035 & 53.688468 & 82.0 & 2696.0 \\\\16.0 & -63.289756 & -63.322117 & -63.320412 & 114.841169 & 89.0 & 5784.0 \\\\'"
      ]
     },
     "execution_count": 43,
     "metadata": {},
     "output_type": "execute_result"
    }
   ],
   "source": [
    "mol_name = 'arg'\n",
    "info = extract_info(mol_name)\n",
    "info_to_latex(info)"
   ]
  },
  {
   "cell_type": "code",
   "execution_count": 31,
   "metadata": {},
   "outputs": [
    {
     "data": {
      "text/plain": [
       "array([ 2.42,  4.51])"
      ]
     },
     "execution_count": 31,
     "metadata": {},
     "output_type": "execute_result"
    }
   ],
   "source": [
    "np.around(np.array((2.4234234242,4.51235123512)),2)"
   ]
  },
  {
   "cell_type": "code",
   "execution_count": null,
   "metadata": {},
   "outputs": [],
   "source": []
  }
 ],
 "metadata": {
  "kernelspec": {
   "display_name": "Python 2",
   "language": "python",
   "name": "python2"
  },
  "language_info": {
   "codemirror_mode": {
    "name": "ipython",
    "version": 2
   },
   "file_extension": ".py",
   "mimetype": "text/x-python",
   "name": "python",
   "nbconvert_exporter": "python",
   "pygments_lexer": "ipython2",
   "version": "2.7.12"
  }
 },
 "nbformat": 4,
 "nbformat_minor": 2
}
