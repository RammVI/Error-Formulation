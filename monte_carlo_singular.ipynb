{
 "cells": [
  {
   "cell_type": "code",
   "execution_count": 6,
   "metadata": {},
   "outputs": [],
   "source": [
    "import numpy as np\n",
    "import scipy.linalg as la"
   ]
  },
  {
   "cell_type": "code",
   "execution_count": 21,
   "metadata": {},
   "outputs": [],
   "source": [
    "def inside(x):\n",
    "    if la.norm(x) < 1:\n",
    "        return True\n",
    "    else:\n",
    "        return False"
   ]
  },
  {
   "cell_type": "code",
   "execution_count": 27,
   "metadata": {},
   "outputs": [
    {
     "name": "stdout",
     "output_type": "stream",
     "text": [
      "4.18752\n",
      "4.1887902047863905\n"
     ]
    }
   ],
   "source": [
    "#Compute Volume of a sphere\n",
    "\n",
    "N = 1000 # Number of MC samples\n",
    "num_inside = 0\n",
    "for n in range(N):\n",
    "    samp = 2*np.random.rand(3,1) - 1\n",
    "    if inside(samp):\n",
    "        num_inside = num_inside + 1\n",
    "\n",
    "MC_Vol = num_inside/N * 8\n",
    "\n",
    "rad = 0.5\n",
    "Ana_Vol = 4/3 * np.pi \n",
    "\n",
    "print(MC_Vol)\n",
    "print(Ana_Vol)\n",
    "\n",
    "    "
   ]
  },
  {
   "cell_type": "code",
   "execution_count": 29,
   "metadata": {},
   "outputs": [
    {
     "name": "stdout",
     "output_type": "stream",
     "text": [
      "6.25468725341\n",
      "6.283185307179586\n"
     ]
    }
   ],
   "source": [
    "#Compute integral of a singular function inside a sphere of diameter = 2\n",
    "\n",
    "\n",
    "def my_f(x):\n",
    "    if inside(x):\n",
    "        return 1./la.norm(x)\n",
    "    else:\n",
    "        return 0\n",
    "\n",
    "N = 100000 # Number of MC samples\n",
    "sum = 0\n",
    "for n in range(N):\n",
    "    samp = 2*np.random.rand(3,1) - 1\n",
    "    if inside(samp):\n",
    "        sum = sum + my_f(samp)\n",
    "\n",
    "# 8 is the integral of the cube with a side of 2.\n",
    "MC_integ = sum/N*8.\n",
    "\n",
    "Ana_integ = 2.*np.pi\n",
    "\n",
    "print(MC_integ)\n",
    "print(Ana_integ)\n",
    "\n"
   ]
  },
  {
   "cell_type": "code",
   "execution_count": null,
   "metadata": {},
   "outputs": [],
   "source": []
  }
 ],
 "metadata": {
  "kernelspec": {
   "display_name": "Python 3",
   "language": "python",
   "name": "python3"
  },
  "language_info": {
   "codemirror_mode": {
    "name": "ipython",
    "version": 3
   },
   "file_extension": ".py",
   "mimetype": "text/x-python",
   "name": "python",
   "nbconvert_exporter": "python",
   "pygments_lexer": "ipython3",
   "version": "3.5.2"
  }
 },
 "nbformat": 4,
 "nbformat_minor": 2
}
