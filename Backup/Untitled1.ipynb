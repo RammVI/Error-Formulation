{
 "cells": [
  {
   "cell_type": "code",
   "execution_count": null,
   "metadata": {},
   "outputs": [],
   "source": [
    "'''\n",
    "Mallador para transformar la malla desde el formato GAMer a '.face' & '.vert'\n",
    "''' \n",
    "\n",
    "import numpy as np \n",
    "import os\n",
    "\n",
    "def output_Path(x):\n",
    "     return os.path.join('Molecule/',name, name + x)\n",
    "\n",
    "name = '1CID'\n",
    "sufix = '.pdb.output.all.m'\n",
    "\n",
    "\n",
    "\n",
    "def mesher(name , sufix):\n",
    "    path = os.path.join('Molecule/',name, name + sufix)\n",
    "    GAMer_Text = open(path).read().split('\\n')   # Now the GAMer output is opened\n",
    "\n",
    "    Vert_s  = GAMer_Text.index('vert=[ ') + 4 \n",
    "    Vert_e  = GAMer_Text.index(']; ')-1  # Starting and ending point of the Vertex list\n",
    "\n",
    "    Face_s = GAMer_Text.index('simp=[ ') + 4  # Starting point of the Faces list\n",
    "    Face_e = len(GAMer_Text)-4\n",
    "\n",
    "    Vertex_List = np.empty((0,3))\n",
    "    for linea in GAMer_Text[Vert_s:Vert_e+1]:\n",
    "        vert = map(float,linea.split()[-3:])\n",
    "        Vertex_List = np.vstack( (Vertex_List,vert) )\n",
    "\n",
    "    Vert_Text = open(output_Path('.vert'),'w+')\n",
    "    for vert in Vertex_List:\n",
    "        line = map(str,vert)\n",
    "        Vert_Text.write( ' '.join(line) + '\\n' )\n",
    "    del Vertex_List\n",
    "    Vert_Text.close()\n",
    "    print('.vert File Ready')\n",
    "\n",
    "    Faces_List = np.empty((0,4))\n",
    "    for linea in GAMer_Text[Face_s:Face_e+1]:\n",
    "        face = map(int,linea.split()[-4:])\n",
    "        Faces_List = np.vstack( (Faces_List,face) )\n",
    "\n",
    "    Face_Text = open(output_Path('.face'),'w+')\n",
    "    for face in Faces_List:\n",
    "        line = map(str,face)\n",
    "        Face_Text.write( ' '.join(line) + '\\n' )\n",
    "    del Faces_List\n",
    "    Face_Text.close()\n",
    "    print('.face File Ready')\n",
    "    return None"
   ]
  }
 ],
 "metadata": {
  "kernelspec": {
   "display_name": "Python 2",
   "language": "python",
   "name": "python2"
  },
  "language_info": {
   "codemirror_mode": {
    "name": "ipython",
    "version": 2
   },
   "file_extension": ".py",
   "mimetype": "text/x-python",
   "name": "python",
   "nbconvert_exporter": "python",
   "pygments_lexer": "ipython2",
   "version": "2.7.14"
  }
 },
 "nbformat": 4,
 "nbformat_minor": 2
}
