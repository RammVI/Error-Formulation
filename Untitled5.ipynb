{
 "cells": [
  {
   "cell_type": "code",
   "execution_count": 2,
   "metadata": {},
   "outputs": [
    {
     "data": {
      "text/plain": [
       "-65.46725544568922"
      ]
     },
     "execution_count": 2,
     "metadata": {},
     "output_type": "execute_result"
    }
   ],
   "source": [
    "from analytical import *\n",
    "import numpy as np\n",
    "\n",
    "xq = np.array( [[  1.E-12 ,  1.E-12 ,  0.62 ],\n",
    "                             [  1.E-12 ,  0.62*np.cos(np.pi*1.5 + 5.*np.pi/180.) ,\n",
    "                                                      0.62*np.sin(np.pi*1.5 + 5.*np.pi/180. ) ] ,\n",
    "                             [  1.E-12 ,  0.62*np.cos(np.pi*1.5 - 5.*np.pi/180.) ,\n",
    "                                                      0.62*np.sin(np.pi*1.5 - 5.*np.pi/180. )  ]\n",
    "                            ])\n",
    "q = np.array( [1. , 1. , -1.]) \n",
    "\n",
    "E_1 = 4.\n",
    "E_2 = 80.\n",
    "R   = 1.\n",
    "kappa = 0.125\n",
    "a   = 1.\n",
    "N   = 20\n",
    "\n",
    "solution(q, xq, E_1, E_2, R, kappa, a, N)"
   ]
  },
  {
   "cell_type": "code",
   "execution_count": null,
   "metadata": {},
   "outputs": [],
   "source": []
  }
 ],
 "metadata": {
  "kernelspec": {
   "display_name": "Python 3",
   "language": "python",
   "name": "python3"
  },
  "language_info": {
   "codemirror_mode": {
    "name": "ipython",
    "version": 3
   },
   "file_extension": ".py",
   "mimetype": "text/x-python",
   "name": "python",
   "nbconvert_exporter": "python",
   "pygments_lexer": "ipython3",
   "version": "3.6.4"
  }
 },
 "nbformat": 4,
 "nbformat_minor": 2
}
