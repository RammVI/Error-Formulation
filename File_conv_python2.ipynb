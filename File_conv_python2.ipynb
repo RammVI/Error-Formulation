{
 "cells": [
  {
   "cell_type": "code",
   "execution_count": 1,
   "metadata": {},
   "outputs": [
    {
     "name": "stdout",
     "output_type": "stream",
     "text": [
      "Overwriting File_converter_python2.py\n"
     ]
    }
   ],
   "source": [
    "%%writefile File_converter_python2.py\n",
    "\n",
    "import numpy as np\n",
    "import os\n",
    "\n",
    "def face_and_vert_to_off(face_array , vert_array , path , file_name ):\n",
    "    '''\n",
    "    Creates off file from face and vert arrays.\n",
    "    '''\n",
    "    off_file = open( os.path.join( path , file_name + '.off' ) , 'w+')\n",
    "    \n",
    "    off_file.write( 'OFF\\n' )\n",
    "    off_file.write( '{0} {1} 0 \\n'.format(len(vert_array) , len(face_array)) )\n",
    "    for vert in vert_array:\n",
    "        off_file.write( str(vert)[1:-1] +'\\n' )\n",
    "    \n",
    "    for face in face_array:\n",
    "        off_file.write( '3 ' + str(face - 1)[1:-1] +'\\n' )\n",
    "        \n",
    "    off_file.close()\n",
    "    \n",
    "    return None\n",
    "\n",
    "def Improve_Mesh(face_array , vert_array , path , file_name ):\n",
    "    '''\n",
    "    Executes ImproveSurfMesh and substitutes files.\n",
    "    '''\n",
    "    \n",
    "    #os.system('export LD_LIBRARY_PATH=/vicenteramm/lib/')\n",
    "    face_and_vert_to_off(face_array , vert_array , path , file_name)\n",
    "    \n",
    "    Improve_surf_Path = '/home/vicenteramm/Software/fetk/gamer/tools/ImproveSurfMesh/ImproveSurfMesh'\n",
    "    os.system( Improve_surf_Path + ' --smooth --correct-normals ' + os.path.join(path , file_name +'.off')  )\n",
    "    \n",
    "    os.system('mv  {0}/{1}'.format(path, file_name + '_improved_0.off ') + \n",
    "                                 '{0}/{1}'.format(path, file_name + '.off '))\n",
    "    \n",
    "    new_off_file =  open( os.path.join( path , file_name + '.off' ) , 'r').read().split('\\n')\n",
    "    #print(new_off_file)\n",
    "    \n",
    "    num_verts = int(new_off_file[1].split()[0])\n",
    "    num_faces = int(new_off_file[1].split()[1])\n",
    "\n",
    "    new_vert_array = np.empty((0,3))\n",
    "    for line in new_off_file[2:num_verts+2]:\n",
    "        new_vert_array = np.vstack((new_vert_array , line.split() ))\n",
    "\n",
    "\n",
    "    new_face_array = np.empty((0,3))\n",
    "    for line in new_off_file[num_verts+2:-1]:\n",
    "        new_face_array = np.vstack((new_face_array , line.split()[1:] ))\n",
    "\n",
    "\n",
    "    new_vert_array = new_vert_array.astype(float)\n",
    "    new_face_array = new_face_array.astype(int  ) + 1\n",
    "    \n",
    "    return new_face_array , new_vert_array"
   ]
  },
  {
   "cell_type": "code",
   "execution_count": 2,
   "metadata": {},
   "outputs": [
    {
     "data": {
      "text/plain": [
       "0"
      ]
     },
     "execution_count": 2,
     "metadata": {},
     "output_type": "execute_result"
    }
   ],
   "source": [
    "face_txt = open( 'Molecule/sphere_cent/30/True/sphere_cent_0-s5.face' , 'r' ).read().split('\\n')\n",
    "vert_txt = open( 'Molecule/sphere_cent/30/True/sphere_cent_0-s5.vert' , 'r' ).read().split('\\n')\n",
    "\n",
    "face_array = np.empty((0,3))\n",
    "for face in face_txt[:-1]:\n",
    "    face_array = np.vstack((face_array , face.split() ))\n",
    "face_array = face_array.astype(int)\n",
    "\n",
    "vert_array = np.empty((0,3))\n",
    "for vert in vert_txt[:-1]:\n",
    "    vert_array = np.vstack((vert_array , vert.split() ))\n",
    "vert_array = vert_array.astype(float)\n",
    "\n",
    "face_and_vert_to_off(face_array , vert_array , 'Molecule/sphere_cent/30/True' , 'sphere_cent_0-s4')\n",
    "\n",
    "\n",
    "os.system('export LD_LIBRARY_PATH=/vicenteramm/lib/')\n",
    "os.system( './Software/gamer/tools/ImproveSurfMesh/ImproveSurfMesh --stats {0}'.format(\n",
    "    'Molecule/sphere_cent/30/True/sphere_cent_0-s5_aux.off') )"
   ]
  },
  {
   "cell_type": "code",
   "execution_count": 7,
   "metadata": {},
   "outputs": [],
   "source": [
    "import trimesh\n",
    "\n",
    "trimesh.load_mesh"
   ]
  },
  {
   "cell_type": "code",
   "execution_count": 30,
   "metadata": {},
   "outputs": [],
   "source": [
    "juanito = open( 'Molecule/sphere_cent/30/True/sphere_cent_0-s5.off' , 'r').read().split('\\n')\n",
    "num_verts = int(juanito[1].split()[0])\n",
    "num_faces = int(juanito[1].split()[1])\n",
    "\n",
    "new_vert_array = np.empty((0,3))\n",
    "for line in juanito[2:num_verts+2]:\n",
    "    new_vert_array = np.vstack((new_vert_array , line.split() ))\n",
    "    \n",
    "    \n",
    "new_face_array = np.empty((0,3))\n",
    "for line in juanito[num_verts+2:-1]:\n",
    "    new_face_array = np.vstack((new_face_array , line.split()[1:] ))\n",
    " \n",
    "    \n",
    "new_vert_array = new_vert_array.astype(float)\n",
    "new_face_array = new_face_array.astype(int  )"
   ]
  },
  {
   "cell_type": "code",
   "execution_count": 7,
   "metadata": {},
   "outputs": [
    {
     "data": {
      "text/plain": [
       "32512"
      ]
     },
     "execution_count": 7,
     "metadata": {},
     "output_type": "execute_result"
    }
   ],
   "source": [
    "os.system('./Software/gamer/tools/ImproveSurfMesh/ImproveSurfMesh --smooth Molecule/sphere_cent/30/True/sphere_cent_0-s5_aux.off ')"
   ]
  },
  {
   "cell_type": "code",
   "execution_count": null,
   "metadata": {},
   "outputs": [],
   "source": []
  }
 ],
 "metadata": {
  "kernelspec": {
   "display_name": "Python 2",
   "language": "python",
   "name": "python2"
  },
  "language_info": {
   "codemirror_mode": {
    "name": "ipython",
    "version": 2
   },
   "file_extension": ".py",
   "mimetype": "text/x-python",
   "name": "python",
   "nbconvert_exporter": "python",
   "pygments_lexer": "ipython2",
   "version": "2.7.12"
  }
 },
 "nbformat": 4,
 "nbformat_minor": 2
}
