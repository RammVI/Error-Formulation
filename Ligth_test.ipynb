{
 "cells": [
  {
   "cell_type": "code",
   "execution_count": 34,
   "metadata": {},
   "outputs": [
    {
     "name": "stdout",
     "output_type": "stream",
     "text": [
      "Overwriting main_MC.py\n"
     ]
    }
   ],
   "source": [
    "%%writefile main_MC.py\n",
    "\n",
    "# 15.11.19\n",
    "# Added a function to calculate volume integrals via Monte Carlo integration\n",
    "# THIS RUTINE WILL DO ONLY MC INTREGRALS\n",
    "\n",
    "# Acumulative 10.10.19 upgrades\n",
    "\n",
    "import bempp.api, numpy as np\n",
    "from math import pi\n",
    "import os\n",
    "import time\n",
    "\n",
    "from constants import values\n",
    "from constants import mesh_info\n",
    "from constants import potential\n",
    "\n",
    "from bempp.api.operators.potential import laplace as lp\n",
    "from bempp.api.operators.boundary import sparse, laplace, modified_helmholtz\n",
    "\n",
    "from Grid_Maker_R2  import *\n",
    "from Mesh_Ref_V2    import *\n",
    "from quadrature     import *\n",
    "from Potential_Solver import *\n",
    "#from bem_parameters import *\n",
    "from File_converter_python2 import *\n",
    "import trimesh\n",
    "\n",
    "global mol_name , mesh_density , suffix , path , q , x_q , phi_space , phi_order , u_space , u_order\n",
    "\n",
    "def main_MC(name , dens , input_suffix , N , h):\n",
    "    \n",
    "    mesh_info.mol_name     = name\n",
    "    mesh_info.mesh_density = dens\n",
    "    mesh_info.suffix       = input_suffix\n",
    "    mesh_info.path         = os.path.join('Molecule' , mesh_info.mol_name)\n",
    "\n",
    "    mesh_info.q , mesh_info.x_q = run_pqr(mesh_info.mol_name)\n",
    "\n",
    "    mesh_info.u_space , mesh_info.u_order     = 'DP' , 0\n",
    "    mesh_info.phi_space , mesh_info.phi_order = 'P' , 1\n",
    "    mesh_info.u_s_space , mesh_info.u_s_order = 'P' , 1\n",
    "\n",
    "\n",
    "    bempp.api.set_ipython_notebook_viewer()\n",
    "    bempp.api.PLOT_BACKEND = \"ipython_notebook\"\n",
    "       \n",
    "    if input_suffix == '-0':\n",
    "        grid = Grid_loader( mesh_info.mol_name , mesh_info.mesh_density , mesh_info.suffix , GAMer = False)\n",
    "    else:\n",
    "        grid = Grid_loader( mesh_info.mol_name , mesh_info.mesh_density , mesh_info.suffix )\n",
    "    \n",
    "    potential.dirichl_space_u = bempp.api.function_space(grid,  mesh_info.u_space, mesh_info.u_order)\n",
    "    potential.neumann_space_u = bempp.api.function_space(grid,  mesh_info.u_space, mesh_info.u_order) \n",
    "    potential.dual_to_dir_s_u = bempp.api.function_space(grid,  mesh_info.u_space, mesh_info.u_order)\n",
    "\n",
    "    potential.U, potential.dU , operators_time , matrix_assembly_time , solv_time , U_it_count= U_tot(\n",
    "        potential.dirichl_space_u  , potential.neumann_space_u , potential.dual_to_dir_s_u )\n",
    "    \n",
    "    U_R , dU_R = U_Reac(potential.U, potential.dU , potential.dirichl_space_u , potential.neumann_space_u )\n",
    "\n",
    "    face_array = np.transpose(grid.leaf_view.elements)+1\n",
    "    vert_array = np.transpose(grid.leaf_view.vertices)\n",
    "    \n",
    "    mesh = trimesh.Trimesh(vertices = vert_array , faces = face_array-1)\n",
    "    \n",
    "    depreciated_term , used_points = scalar_times_laplacian(mesh , local_U_interior , \n",
    "                           local_U_Reac_interior , N , h)   \n",
    "    \n",
    "    \n",
    "    return depreciated_term , used_points\n",
    "    #return dif[:,0]\n",
    "    \n",
    "\n",
    "if True:\n",
    "    Resultados = open( 'Resultados_MC_16_11.txt' , 'w+' )\n",
    "\n",
    "    Resultados.write( ' molecule & Density & Vol integral & N Points \\n')\n",
    "\n",
    "    for molecule in ('arg' , 'methanol'):\n",
    "        \n",
    "        for dens in (0.5 , 1.0 ):\n",
    "            \n",
    "            for n in (20 , 30 , 40):\n",
    "            \n",
    "                text = '{0} & {1}'.format( molecule , str(dens)  )\n",
    "\n",
    "                depreciated_term , used_points = main_MC(molecule , dens , '-0' , n , 0.001 )\n",
    "\n",
    "                text = text + ' & {0:.10e} & {1:d} \\n'.format( depreciated_term[0,0] , used_points )\n",
    "                Resultados.write( text )\n",
    "                            \n",
    "    Resultados.write('Conditions\\n')\n",
    "    Resultados.write('Smooth and Use_Gamer: both Disabled \\n')\n",
    "    Resultados.write('Adjoint mesh with uniform refinement: Disabled \\n')\n",
    "    Resultados.write('Note: Used for Monte Carlo integration, but points are not strictly random, \\n')\n",
    "    Resultados.write('      points distance is constant in each direction, but not controlable. See quadrature \\n')\n",
    "    Resultados.write('      for more information \\n')\n",
    "    Resultados.close()"
   ]
  },
  {
   "cell_type": "code",
   "execution_count": 2,
   "metadata": {},
   "outputs": [
    {
     "data": {
      "text/plain": [
       "''"
      ]
     },
     "execution_count": 2,
     "metadata": {},
     "output_type": "execute_result"
    }
   ],
   "source": [
    "import params_and_data\n",
    "params_and_data.mol_name"
   ]
  },
  {
   "cell_type": "code",
   "execution_count": 7,
   "metadata": {},
   "outputs": [
    {
     "name": "stdout",
     "output_type": "stream",
     "text": [
      "1.0\n"
     ]
    }
   ],
   "source": [
    "import potential\n",
    "import mesh_info\n",
    "import values\n",
    "\n",
    "potential.dU = 1.0\n",
    "\n",
    "from object_testing import testtest\n",
    "testtest()"
   ]
  },
  {
   "cell_type": "code",
   "execution_count": 3,
   "metadata": {},
   "outputs": [
    {
     "ename": "NameError",
     "evalue": "name 'mol_name' is not defined",
     "output_type": "error",
     "traceback": [
      "\u001b[0;31m---------------------------------------------------------------------------\u001b[0m",
      "\u001b[0;31mNameError\u001b[0m                                 Traceback (most recent call last)",
      "\u001b[0;32m<ipython-input-3-ae667015fc17>\u001b[0m in \u001b[0;36m<module>\u001b[0;34m\u001b[0m\n\u001b[1;32m      1\u001b[0m \u001b[0;32mfrom\u001b[0m \u001b[0mmesh_info\u001b[0m \u001b[0;32mimport\u001b[0m \u001b[0mvalues\u001b[0m\u001b[0;34m\u001b[0m\u001b[0;34m\u001b[0m\u001b[0m\n\u001b[0;32m----> 2\u001b[0;31m \u001b[0mmol_name\u001b[0m\u001b[0;34m\u001b[0m\u001b[0;34m\u001b[0m\u001b[0m\n\u001b[0m",
      "\u001b[0;31mNameError\u001b[0m: name 'mol_name' is not defined"
     ]
    }
   ],
   "source": [
    "from mesh_info import values\n",
    "mol_name"
   ]
  },
  {
   "cell_type": "code",
   "execution_count": 8,
   "metadata": {},
   "outputs": [
    {
     "data": {
      "text/plain": [
       "0.3375"
      ]
     },
     "execution_count": 8,
     "metadata": {},
     "output_type": "execute_result"
    }
   ],
   "source": [
    "2700/8000"
   ]
  },
  {
   "cell_type": "code",
   "execution_count": 16,
   "metadata": {},
   "outputs": [
    {
     "data": {
      "text/plain": [
       "10813.44"
      ]
     },
     "execution_count": 16,
     "metadata": {},
     "output_type": "execute_result"
    }
   ],
   "source": [
    "32**3*0.33"
   ]
  },
  {
   "cell_type": "code",
   "execution_count": 31,
   "metadata": {},
   "outputs": [
    {
     "name": "stdout",
     "output_type": "stream",
     "text": [
      "4.2423100000e-04 & 5\n"
     ]
    }
   ],
   "source": [
    "print('{0:.10e} & {1:d}'.format(0.000424231 , 5) )"
   ]
  },
  {
   "cell_type": "code",
   "execution_count": null,
   "metadata": {},
   "outputs": [],
   "source": []
  }
 ],
 "metadata": {
  "kernelspec": {
   "display_name": "Python 2",
   "language": "python",
   "name": "python2"
  },
  "language_info": {
   "codemirror_mode": {
    "name": "ipython",
    "version": 3
   },
   "file_extension": ".py",
   "mimetype": "text/x-python",
   "name": "python",
   "nbconvert_exporter": "python",
   "pygments_lexer": "ipython3",
   "version": "3.6.7"
  }
 },
 "nbformat": 4,
 "nbformat_minor": 2
}
