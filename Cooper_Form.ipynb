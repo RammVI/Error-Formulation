{
 "cells": [
  {
   "cell_type": "code",
   "execution_count": 1,
   "metadata": {},
   "outputs": [
    {
     "name": "stdout",
     "output_type": "stream",
     "text": [
      ".xyzr File from .pqr ready.\n",
      "Normal .vert & .face Done\n",
      "Normal .msh Done\n",
      "Mesh Ready\n",
      "The linear system was solved in 120 iterations\n",
      "Regular component solved.\n"
     ]
    }
   ],
   "source": [
    "import bempp.api, numpy as np\n",
    "from math import pi\n",
    "import os\n",
    "\n",
    "from Grid_Maker import *\n",
    "\n",
    "mol_name = 'arg' ; stern_thickness = 0 ; probe_radius = 1.4\n",
    "mesh_density = 10.0 ; min_area = 0 \n",
    "\n",
    "ep_m = 4.\n",
    "ep_s = 80.\n",
    "k = 0.125\n",
    "\n",
    "e_c = 1.60217662e-19 # [C] - proton charge\n",
    "k_B = 1.38064852e-23 # [m2 kg s-2 K-1]\n",
    "T   = 298. # [K]  \n",
    "C = 1. # e_c/(k_B*T)\n",
    "\n",
    "pqr_to_xyzr(mol_name , stern_thickness , method = 'amber' )\n",
    "xyzr_to_msh(mol_name , mesh_density , probe_radius , stern_thickness , min_area , Mallador = 'MSMS')\n",
    "\n",
    "path = 'Molecule/'+mol_name\n",
    "triangle_areas( path , mol_name , mesh_density )\n",
    "\n",
    "bempp.api.set_ipython_notebook_viewer()\n",
    "bempp.api.PLOT_BACKEND = \"ipython_notebook\"\n",
    "\n",
    "\n",
    "path = 'Molecule/'+mol_name+'/'\n",
    "\n",
    "grid_name_File =  os.path.join(path,mol_name + '_'+str(mesh_density)+'.msh')\n",
    "\n",
    "grid = bempp.api.import_grid(grid_name_File)\n",
    "\n",
    "\n",
    "q, x_q = np.empty(0), np.empty((0,3))\n",
    "\n",
    "pqr_file = os.path.join(path,mol_name+'.pqr')\n",
    "charges_file = open( pqr_file , 'r').read().split('\\n')\n",
    "\n",
    "for line in charges_file:\n",
    "    line = line.split()\n",
    "    if len(line)==0: continue\n",
    "    if line[0]!='ATOM': continue\n",
    "    q = np.append( q, float(line[8]))\n",
    "    x_q = np.vstack( ( x_q, np.array(line[5:8]).astype(float) ) )  \n",
    "    \n",
    "from bempp.api.operators.boundary import sparse, laplace, modified_helmholtz\n",
    "\n",
    "dirichl_space = bempp.api.function_space(grid,  \"DP\", 0)\n",
    "neumann_space = bempp.api.function_space(grid,  \"DP\", 0) \n",
    "dual_to_dir_s = bempp.api.function_space(grid,  \"DP\", 0)\n",
    "\n",
    "identity = sparse.identity(     dirichl_space, dirichl_space, dual_to_dir_s)\n",
    "slp   = laplace.single_layer(neumann_space, dirichl_space, dual_to_dir_s)\n",
    "dlp   = laplace.double_layer(dirichl_space, dirichl_space, dual_to_dir_s)\n",
    "\n",
    "def zero_i(x, n, domain_index, result):\n",
    "    result[:] = 0\n",
    "    \n",
    "def u_s_G(x,n,domain_index,result):\n",
    "    global q,x_q,ep_m,C\n",
    "    result[:] = C / (4.*np.pi*ep_m)  * np.sum( q / np.linalg.norm( x - x_q, axis=1 ) )\n",
    "    \n",
    "def du_s_G(x,n,domain_index,result):\n",
    "    global q,x_q,ep_m,C\n",
    "    result[:] = -C/(4.*np.pi*ep_m)  * np.sum( np.dot( x-\n",
    "                            x_q , n)  * q / np.linalg.norm( x - x_q, axis=1 )**3 )\n",
    "    \n",
    "u_s  = bempp.api.GridFunction(dirichl_space, fun=u_s_G)\n",
    "du_s = bempp.api.GridFunction(neumann_space, fun=du_s_G)\n",
    "\n",
    "from bempp.api.operators.boundary import sparse, laplace, modified_helmholtz\n",
    "\n",
    "identity = sparse.identity(     dirichl_space, dirichl_space, dual_to_dir_s)\n",
    "slp_in   = laplace.single_layer(neumann_space, dirichl_space, dual_to_dir_s)\n",
    "dlp_in   = laplace.double_layer(dirichl_space, dirichl_space, dual_to_dir_s)\n",
    "\n",
    "k_p = k # kappa'\n",
    "\n",
    "identity = sparse.identity(     dirichl_space, dirichl_space, dual_to_dir_s)\n",
    "slp_in   = laplace.single_layer(neumann_space, dirichl_space, dual_to_dir_s)\n",
    "dlp_in   = laplace.double_layer(dirichl_space, dirichl_space, dual_to_dir_s)\n",
    "\n",
    "slp_out  = modified_helmholtz.single_layer(neumann_space, dirichl_space, dual_to_dir_s, k_p)\n",
    "dlp_out  = modified_helmholtz.double_layer(dirichl_space, dirichl_space, dual_to_dir_s, k_p)\n",
    "\n",
    "blocked = bempp.api.BlockedOperator(2, 2)\n",
    "blocked[0, 0] = 0.5*identity + dlp_in\n",
    "blocked[0, 1] = -slp_in\n",
    "blocked[1, 0] = 0.5*identity - dlp_out\n",
    "blocked[1, 1] = (ep_m/ep_s)*slp_out\n",
    "\n",
    "\n",
    "zero = bempp.api.GridFunction(dirichl_space, fun=zero_i)\n",
    "\n",
    "rhs = [ zero ,  -slp_out *(ep_m/ep_s)*du_s]\n",
    "sol, info,it_count = bempp.api.linalg.gmres( blocked , rhs, return_iteration_count=True, tol=1e-4)\n",
    "print(\"The linear system was solved in {0} iterations\".format(it_count))\n",
    "u_r , du_r = sol\n",
    "print('Regular component solved.')"
   ]
  },
  {
   "cell_type": "code",
   "execution_count": 2,
   "metadata": {},
   "outputs": [],
   "source": [
    "u_tot = u_r + u_s\n",
    "du_tot= du_r + du_s\n",
    "\n",
    "# Se definen las integrales de superficie, válido para espacios DP0 unicamente.\n",
    "def Integral_superficie( A , B ):\n",
    "    A = A.real.coefficients\n",
    "    B = B.real.coefficients\n",
    "    Area_F = open(path+'triangleAreas_'+str(mesh_density)+'.txt').readlines()\n",
    "    Areas  = np.zeros(len(Area_F))\n",
    "    for i in range(len(Area_F)):\n",
    "        Areas[i] = float(Area_F[i][:-1]) \n",
    "    return A*B*Areas\n",
    "\n",
    "# Se abre el archivo de texto que guarda las áreas por elemento\n",
    "area_txt = open('Molecule/{0:s}/triangleAreas_{1:s}.txt'.format(mol_name , str(mesh_density) ) ).read().split('\\n')\n",
    "areas    = [float(i) for i in area_txt[:-1]]"
   ]
  },
  {
   "cell_type": "code",
   "execution_count": 5,
   "metadata": {},
   "outputs": [
    {
     "data": {
      "text/plain": [
       "0.0011537979622319849"
      ]
     },
     "execution_count": 5,
     "metadata": {},
     "output_type": "execute_result"
    }
   ],
   "source": [
    "ep_m*np.sum(Integral_superficie( u_tot , du_r) - Integral_superficie(du_tot , u_r))"
   ]
  },
  {
   "cell_type": "code",
   "execution_count": 4,
   "metadata": {},
   "outputs": [
    {
     "name": "stdout",
     "output_type": "stream",
     "text": [
      "0.00115412685676\n"
     ]
    }
   ],
   "source": [
    "from bempp.api.operators.potential import laplace as lp\n",
    "\n",
    "slp_in_O = lp.single_layer(neumann_space, x_q.transpose()) \n",
    "dlp_in_O = lp.double_layer(dirichl_space, x_q.transpose())\n",
    "\n",
    "phi_r_i = slp_in_O * du_r  -  dlp_in_O * u_r\n",
    "\n",
    "S_phi     = np.sum(q * phi_r_i).real\n",
    "print(S_phi)"
   ]
  },
  {
   "cell_type": "code",
   "execution_count": 6,
   "metadata": {},
   "outputs": [],
   "source": [
    "intento_de_variable = Integral_superficie( u_tot , du_r) - Integral_superficie(du_tot , u_r)"
   ]
  },
  {
   "cell_type": "code",
   "execution_count": 8,
   "metadata": {},
   "outputs": [
    {
     "data": {
      "text/plain": [
       "array([  2.81783130e-08,   4.60308794e-08,   4.27616677e-08, ...,\n",
       "         3.24856901e-07,   5.65675315e-07,   5.77215447e-07])"
      ]
     },
     "execution_count": 8,
     "metadata": {},
     "output_type": "execute_result"
    }
   ],
   "source": [
    "intento_de_variable"
   ]
  },
  {
   "cell_type": "code",
   "execution_count": 10,
   "metadata": {},
   "outputs": [],
   "source": []
  },
  {
   "cell_type": "code",
   "execution_count": null,
   "metadata": {},
   "outputs": [],
   "source": [
    "ax.plot_trisurf(x, y, z, linewidth=0.2, antialiased=True)"
   ]
  }
 ],
 "metadata": {
  "kernelspec": {
   "display_name": "Python 2",
   "language": "python",
   "name": "python2"
  },
  "language_info": {
   "codemirror_mode": {
    "name": "ipython",
    "version": 2
   },
   "file_extension": ".py",
   "mimetype": "text/x-python",
   "name": "python",
   "nbconvert_exporter": "python",
   "pygments_lexer": "ipython2",
   "version": "2.7.12"
  }
 },
 "nbformat": 4,
 "nbformat_minor": 2
}
