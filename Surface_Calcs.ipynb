{
 "cells": [
  {
   "cell_type": "code",
   "execution_count": 120,
   "metadata": {},
   "outputs": [],
   "source": [
    "# %%writefile Surface_Calcs.py\n",
    "import numpy as np\n",
    "\n",
    "def pol_weights(E_1 , E_2 , order ):\n",
    "    '''\n",
    "    Returns thw weights for different spaces. Works for P-1 and DP-1\n",
    "    E_1 : The projection of the unit vector x-v1 by the projection of the unit vector v2-v1\n",
    "    E_2 : The projection of the unit vector x-v1 by the projection of the unit vector v3-v1\n",
    "    '''\n",
    "    if order == 1 :\n",
    "        p1 = (1.-E_1)*(1.-E_2)\n",
    "        p2 =     E_1 *(1.-E_2)\n",
    "        p3 = (1.-E_1)*    E_2\n",
    "        return np.array((p1,p2,p3))\n",
    "    else:\n",
    "        return None\n",
    "    \n",
    "def polynomial_value(face , x , soln , face_array , vert_array , space = 'P' , order = 1):\n",
    "    '''\n",
    "    Interpolates the solution value from vertex to the point x.\n",
    "    face : Array containing the three vertices position\n",
    "    x    : Coordinates\n",
    "    soln : Solution from solver\n",
    "    '''\n",
    "    if order == 1 and space=='P':\n",
    "        f1 , f2 , f3 = face[0]-1 , face[1]-1 , face[2] -1\n",
    "        v1 , v2 , v3 = vert_array[f1] , vert_array[f2] , vert_array[f3]\n",
    "        s1 , s2 , s3 = soln[f1,0]       , soln[f2,0]       , soln[f3,0]\n",
    "        \n",
    "        if np.array_equal(x,v1): \n",
    "            P = pol_weights(0,0,order)\n",
    "            S = np.array(( s1 , s2 , s3 ))\n",
    "            Int_value = np.sum(P*S)\n",
    "            \n",
    "            return Int_value\n",
    "        \n",
    "        E_1 = np.dot( v3 - v1 , x - v1)/ ( np.linalg.norm(v3-v1)*np.linalg.norm(x-v1) )\n",
    "        E_2 = np.dot( v2 - v1 , x - v1)/ ( np.linalg.norm(v2-v1)*np.linalg.norm(x-v1) )\n",
    "        \n",
    "        print('E_1 : {0:10f}      E_2 : {1:10f}'.format(E_1,E_2))\n",
    "        \n",
    "        P   = pol_weights(E_1 , E_2 , order)\n",
    "        S   = np.array(( s1 , s2 , s3 ))\n",
    "        Int_value = np.sum( P * S )\n",
    "        \n",
    "        \n",
    "        return Int_value\n",
    "    \n",
    "    \n",
    "    else:\n",
    "        return None\n"
   ]
  },
  {
   "cell_type": "code",
   "execution_count": 58,
   "metadata": {},
   "outputs": [],
   "source": [
    "from Mesh_Ref import *\n",
    "\n",
    "mol_name = 'methanol'\n",
    "path = os.path.join('Molecule',mol_name)\n",
    "\n",
    "starting_density = 2.0\n",
    "\n",
    "suffix   = ''\n",
    "\n",
    "input_file_suffix= '-0'\n",
    "aux_path = '_'+str(starting_density)+input_file_suffix\n",
    "\n",
    "face_array = text_to_list(mol_name , aux_path , '.face' , info_type=int  )\n",
    "vert_array = text_to_list(mol_name , aux_path , '.vert' , info_type=float)"
   ]
  },
  {
   "cell_type": "code",
   "execution_count": 122,
   "metadata": {},
   "outputs": [
    {
     "name": "stdout",
     "output_type": "stream",
     "text": [
      "E_1 :   0.761104      E_2 :   1.000000\n",
      "0.238896004053\n"
     ]
    }
   ],
   "source": [
    "soln = np.ones((100,1))\n",
    "\n",
    "f = face_array[5]\n",
    "v1,v2,v3 = vert_array[f[0]-1] , vert_array[f[1]-1] , vert_array[f[2]-1]\n",
    "\n",
    "poly_v = polynomial_value( f , v2 , soln , face_array , vert_array )\n",
    "\n",
    "print(poly_v)\n"
   ]
  },
  {
   "cell_type": "code",
   "execution_count": 124,
   "metadata": {},
   "outputs": [
    {
     "data": {
      "text/plain": [
       "0.99999999999999989"
      ]
     },
     "execution_count": 124,
     "metadata": {},
     "output_type": "execute_result"
    }
   ],
   "source": [
    "x = v3\n",
    "np.dot( v3 - v1 , x - v1)/ ( np.linalg.norm(v3-v1)*np.linalg.norm(x-v1) )"
   ]
  },
  {
   "cell_type": "code",
   "execution_count": 102,
   "metadata": {},
   "outputs": [
    {
     "data": {
      "text/plain": [
       "5.3851648071345037"
      ]
     },
     "execution_count": 102,
     "metadata": {},
     "output_type": "execute_result"
    }
   ],
   "source": []
  },
  {
   "cell_type": "code",
   "execution_count": 100,
   "metadata": {},
   "outputs": [
    {
     "data": {
      "text/plain": [
       "5.385164807134504"
      ]
     },
     "execution_count": 100,
     "metadata": {},
     "output_type": "execute_result"
    }
   ],
   "source": [
    "29.**0.5"
   ]
  },
  {
   "cell_type": "code",
   "execution_count": null,
   "metadata": {},
   "outputs": [],
   "source": []
  }
 ],
 "metadata": {
  "kernelspec": {
   "display_name": "Python 2",
   "language": "python",
   "name": "python2"
  },
  "language_info": {
   "codemirror_mode": {
    "name": "ipython",
    "version": 2
   },
   "file_extension": ".py",
   "mimetype": "text/x-python",
   "name": "python",
   "nbconvert_exporter": "python",
   "pygments_lexer": "ipython2",
   "version": "2.7.12"
  }
 },
 "nbformat": 4,
 "nbformat_minor": 2
}
