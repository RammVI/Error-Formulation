{
 "cells": [
  {
   "cell_type": "code",
   "execution_count": 1,
   "metadata": {},
   "outputs": [],
   "source": [
    "'''\n",
    "This is a global set of functions, to handle the diferent Mesh formats (2D-3D) obtained with GAMer.\n",
    "''' \n",
    "\n",
    "import numpy as np \n",
    "import os\n",
    "import bempp.api\n",
    "import dolfin\n",
    "\n",
    "def output_Path(x):\n",
    "     return os.path.join('Molecule/',name, name + x)\n",
    "\n",
    "def mesher(name , suffix=''):\n",
    "    path = os.path.join('Molecule/',name, name + suffix)\n",
    "    GAMer_Text = open(path).read().split('\\n')   # Now the GAMer output is opened\n",
    "\n",
    "    Vert_s  = GAMer_Text.index('vert=[ ') + 4 \n",
    "    Vert_e  = GAMer_Text.index(']; ')-1  # Starting and ending point of the Vertex list\n",
    "\n",
    "    Face_s = GAMer_Text.index('simp=[ ') + 4  # Starting point of the Faces list\n",
    "    Face_e = len(GAMer_Text)-4\n",
    "\n",
    "    Vertex_List = np.empty((0,3))\n",
    "    for linea in GAMer_Text[Vert_s:Vert_e+1]:\n",
    "        vert = map(float,linea.split()[-3:])\n",
    "        Vertex_List = np.vstack( (Vertex_List,vert) )\n",
    "\n",
    "    Vert_Text = open(output_Path('.vert'),'w+')\n",
    "    for vert in Vertex_List:\n",
    "        line = map(str,vert)\n",
    "        Vert_Text.write( ' '.join(line) + '\\n' )\n",
    "    del Vertex_List\n",
    "    Vert_Text.close()\n",
    "    print('.vert File Ready')\n",
    "\n",
    "    Faces_List = np.empty((0,4))\n",
    "    for linea in GAMer_Text[Face_s:Face_e+1]:\n",
    "        face = map(int,linea.split()[-4:])\n",
    "        Faces_List = np.vstack( (Faces_List,face) )\n",
    "\n",
    "    Face_Text = open(output_Path('.face'),'w+')\n",
    "    for face in Faces_List:\n",
    "        line = map(str,map(int,face) )\n",
    "        Face_Text.write( ' '.join(line) + '\\n' )\n",
    "    del Faces_List\n",
    "    Face_Text.close()\n",
    "    print('.face File Ready')\n",
    "    return None\n",
    "\n",
    "def grid_factory(name , suffix='',output_format='.msh'):\n",
    "    path = os.path.join('Molecule/',name, name + suffix)\n",
    "    Vertex_Text = open( path+'.vert').read().split('\\n')[:-1]\n",
    "\n",
    "    factory = bempp.api.grid.GridFactory()\n",
    "\n",
    "    for line in Vertex_Text:\n",
    "        line = line.split()\n",
    "        vert = map(float , line)\n",
    "        factory.insert_vertex(vert)\n",
    "\n",
    "    Faces_Text = open( path+'.face').read().split('\\n')[:-1]\n",
    "    for line in Faces_Text:\n",
    "        line = line.split()\n",
    "        face_vert = map(int , map(float,line) )\n",
    "        factory.insert_element(face_vert)\n",
    "\n",
    "    grid = factory.finalize()\n",
    "    export_file = os.path.join(path + output_format )\n",
    "    print('{0} File Ready'.format(output_format))\n",
    "    bempp.api.export(grid=grid, file_name=export_file) \n",
    "    return None\n",
    "\n",
    "def surf_to_mesh(name , suffix = '.pdb.output.surf.off' , output_format = '_surf.msh'):\n",
    "    '''\n",
    "    This rutine makes a .msh or .vtk file from .surf.off file obtained from GAMer\n",
    "    \n",
    "    name  : Molecule ID\n",
    "    output_format : _surf.msh for msh format (GMSH) or _surf.vtk format (ParaView for example). VTK \n",
    "                    format allow us to see higher-order(>1) solutions. \n",
    "    '''\n",
    "    path = os.path.join('Molecule',name,name)\n",
    "    off_File = open(path + suffix).read().split('\\n')\n",
    "\n",
    "    vert_text = open(path+'_surf.vert','w+')\n",
    "    c=0\n",
    "    factory = bempp.api.grid.GridFactory()\n",
    "    for line in off_File[2:]:\n",
    "        l = map(float,line.split())\n",
    "        if len(l)!=3: break\n",
    "        c+=1\n",
    "        vert_text.write(line+' \\n')\n",
    "        factory.insert_vertex(l)\n",
    "    vert_text.close()\n",
    "\n",
    "    face_text = open(path+'_surf.face','w+')\n",
    "    for line in off_File[c+2:-1]:\n",
    "        l_aux = line[2:]\n",
    "        l = map(int,l_aux.split())\n",
    "        face_text.write(l_aux+' \\n')\n",
    "        factory.insert_element(l)\n",
    "    face_text.close()\n",
    "    grid=factory.finalize()\n",
    "    export_file = os.path.join(path + output_format )\n",
    "    print('{0} File Ready'.format(output_format))\n",
    "    bempp.api.export(grid=grid, file_name=export_file) \n",
    "    return None"
   ]
  },
  {
   "cell_type": "code",
   "execution_count": 4,
   "metadata": {},
   "outputs": [
    {
     "ename": "ValueError",
     "evalue": "'vert=[ ' is not in list",
     "output_type": "error",
     "traceback": [
      "\u001b[0;31m---------------------------------------------------------------------------\u001b[0m",
      "\u001b[0;31mValueError\u001b[0m                                Traceback (most recent call last)",
      "\u001b[0;32m<ipython-input-4-2f3aaf6dde7c>\u001b[0m in \u001b[0;36m<module>\u001b[0;34m()\u001b[0m\n\u001b[0;32m----> 1\u001b[0;31m \u001b[0mmesher\u001b[0m\u001b[0;34m(\u001b[0m\u001b[0;34m'born'\u001b[0m\u001b[0;34m,\u001b[0m \u001b[0msuffix\u001b[0m\u001b[0;34m=\u001b[0m\u001b[0;34m'.pqr'\u001b[0m\u001b[0;34m)\u001b[0m\u001b[0;34m\u001b[0m\u001b[0m\n\u001b[0m",
      "\u001b[0;32m<ipython-input-2-a7ae5feefb2a>\u001b[0m in \u001b[0;36mmesher\u001b[0;34m(name, suffix)\u001b[0m\n\u001b[1;32m     15\u001b[0m     \u001b[0mGAMer_Text\u001b[0m \u001b[0;34m=\u001b[0m \u001b[0mopen\u001b[0m\u001b[0;34m(\u001b[0m\u001b[0mpath\u001b[0m\u001b[0;34m)\u001b[0m\u001b[0;34m.\u001b[0m\u001b[0mread\u001b[0m\u001b[0;34m(\u001b[0m\u001b[0;34m)\u001b[0m\u001b[0;34m.\u001b[0m\u001b[0msplit\u001b[0m\u001b[0;34m(\u001b[0m\u001b[0;34m'\\n'\u001b[0m\u001b[0;34m)\u001b[0m   \u001b[0;31m# Now the GAMer output is opened\u001b[0m\u001b[0;34m\u001b[0m\u001b[0m\n\u001b[1;32m     16\u001b[0m \u001b[0;34m\u001b[0m\u001b[0m\n\u001b[0;32m---> 17\u001b[0;31m     \u001b[0mVert_s\u001b[0m  \u001b[0;34m=\u001b[0m \u001b[0mGAMer_Text\u001b[0m\u001b[0;34m.\u001b[0m\u001b[0mindex\u001b[0m\u001b[0;34m(\u001b[0m\u001b[0;34m'vert=[ '\u001b[0m\u001b[0;34m)\u001b[0m \u001b[0;34m+\u001b[0m \u001b[0;36m4\u001b[0m\u001b[0;34m\u001b[0m\u001b[0m\n\u001b[0m\u001b[1;32m     18\u001b[0m     \u001b[0mVert_e\u001b[0m  \u001b[0;34m=\u001b[0m \u001b[0mGAMer_Text\u001b[0m\u001b[0;34m.\u001b[0m\u001b[0mindex\u001b[0m\u001b[0;34m(\u001b[0m\u001b[0;34m']; '\u001b[0m\u001b[0;34m)\u001b[0m\u001b[0;34m-\u001b[0m\u001b[0;36m1\u001b[0m  \u001b[0;31m# Starting and ending point of the Vertex list\u001b[0m\u001b[0;34m\u001b[0m\u001b[0m\n\u001b[1;32m     19\u001b[0m \u001b[0;34m\u001b[0m\u001b[0m\n",
      "\u001b[0;31mValueError\u001b[0m: 'vert=[ ' is not in list"
     ]
    }
   ],
   "source": [
    "mesher('born', suffix='.pdb.output.all.m')"
   ]
  },
  {
   "cell_type": "code",
   "execution_count": null,
   "metadata": {},
   "outputs": [],
   "source": [
    "'.pdb.output.all.m'"
   ]
  },
  {
   "cell_type": "code",
   "execution_count": 71,
   "metadata": {},
   "outputs": [
    {
     "name": "stdout",
     "output_type": "stream",
     "text": [
      ".msh File Ready\n"
     ]
    }
   ],
   "source": [
    "grid_factory('1CID', suffix='', output_format='.msh')"
   ]
  },
  {
   "cell_type": "code",
   "execution_count": 76,
   "metadata": {},
   "outputs": [
    {
     "name": "stdout",
     "output_type": "stream",
     "text": [
      "_surf.msh File Ready\n"
     ]
    }
   ],
   "source": [
    "surf_to_mesh('1CID' , suffix = '.pdb.output.surf.off' , output_format = '_surf.msh')"
   ]
  }
 ],
 "metadata": {
  "kernelspec": {
   "display_name": "Python 2",
   "language": "python",
   "name": "python2"
  },
  "language_info": {
   "codemirror_mode": {
    "name": "ipython",
    "version": 2
   },
   "file_extension": ".py",
   "mimetype": "text/x-python",
   "name": "python",
   "nbconvert_exporter": "python",
   "pygments_lexer": "ipython2",
   "version": "2.7.12"
  }
 },
 "nbformat": 4,
 "nbformat_minor": 2
}
